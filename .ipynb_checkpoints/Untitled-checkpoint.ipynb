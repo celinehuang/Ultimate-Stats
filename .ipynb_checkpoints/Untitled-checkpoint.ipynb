{
 "cells": [
  {
   "cell_type": "code",
   "execution_count": 2,
   "metadata": {},
   "outputs": [
    {
     "ename": "ImportError",
     "evalue": "No module named 'requests'",
     "output_type": "error",
     "traceback": [
      "\u001b[0;31m---------------------------------------------------------------------------\u001b[0m",
      "\u001b[0;31mImportError\u001b[0m                               Traceback (most recent call last)",
      "\u001b[0;32m<ipython-input-2-8614f1d739f8>\u001b[0m in \u001b[0;36m<module>\u001b[0;34m\u001b[0m\n\u001b[0;32m----> 1\u001b[0;31m \u001b[0;32mimport\u001b[0m \u001b[0mrequests\u001b[0m \u001b[0;32mas\u001b[0m \u001b[0mrq\u001b[0m\u001b[0;34m\u001b[0m\u001b[0m\n\u001b[0m\u001b[1;32m      2\u001b[0m \u001b[0;32mfrom\u001b[0m \u001b[0mbs4\u001b[0m \u001b[0;32mimport\u001b[0m \u001b[0mBeautifulSoup\u001b[0m\u001b[0;34m\u001b[0m\u001b[0m\n\u001b[1;32m      3\u001b[0m \u001b[0;32mimport\u001b[0m \u001b[0mpandas\u001b[0m \u001b[0;32mas\u001b[0m \u001b[0mpd\u001b[0m\u001b[0;34m\u001b[0m\u001b[0m\n\u001b[1;32m      4\u001b[0m \u001b[0;34m\u001b[0m\u001b[0m\n\u001b[1;32m      5\u001b[0m \u001b[0;32mdef\u001b[0m \u001b[0mscrapper\u001b[0m\u001b[0;34m(\u001b[0m\u001b[0mlink\u001b[0m\u001b[0;34m,\u001b[0m \u001b[0mdata_frame\u001b[0m\u001b[0;34m)\u001b[0m\u001b[0;34m:\u001b[0m\u001b[0;34m\u001b[0m\u001b[0m\n",
      "\u001b[0;31mImportError\u001b[0m: No module named 'requests'"
     ]
    }
   ],
   "source": [
    "import requests as rq\n",
    "from bs4 import BeautifulSoup\n",
    "import pandas as pd\n",
    "\n",
    "def scrapper(link, data_frame):\n",
    "\n",
    "   response = rq.get(link)\n",
    "   html = response.content\n",
    "   soup = BeautifulSoup(html, features=\"html.parser\")\n",
    "   roster = soup.find(\"table\", attrs={\"class\": \"global_table\"})\n",
    "   \n",
    "   data_frame.append(pd.read_html(str(roster), skiprows = 0))\n",
    "   print(pd.read_html(str(roster), skiprows = 0))\n",
    "   return data_frame \n",
    "\n",
    "def scrape_one_year(link):\n",
    "   \n",
    "   df = pd.DataFrame(columns=['No.','Player','Position', 'Height', 'Points', 'Assists', 'Ds', 'Turns'])\n",
    "   response = rq.get(link)\n",
    "   html = response.content\n",
    "   soup = BeautifulSoup(html, features=\"html.parser\")\n",
    "   roster = soup.find(\"table\", attrs={\"class\": \"global_table\"})\n",
    "   for page in roster.find_all('a', href=True):\n",
    "      if(str(page['href'])[0] == 'j'):\n",
    "         continue\n",
    "      else:\n",
    "         scrapper(\"https://play.usaultimate.org\" + str(page['href']), df)\n",
    "         print(df)\n",
    "   \n",
    "   return df\n",
    "\n",
    "\n",
    "if __name__ == \"__main__\":\n",
    "   print(scrape_one_year(\"https://play.usaultimate.org/teams/events/team_rankings/?RankSet=Club-Mixed\"))"
   ]
  }
 ],
 "metadata": {
  "kernelspec": {
   "display_name": "Python 3",
   "language": "python",
   "name": "python3"
  },
  "language_info": {
   "codemirror_mode": {
    "name": "ipython",
    "version": 3
   },
   "file_extension": ".py",
   "mimetype": "text/x-python",
   "name": "python",
   "nbconvert_exporter": "python",
   "pygments_lexer": "ipython3",
   "version": "3.5.6"
  }
 },
 "nbformat": 4,
 "nbformat_minor": 2
}
